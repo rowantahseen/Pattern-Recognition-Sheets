{
  "nbformat": 4,
  "nbformat_minor": 0,
  "metadata": {
    "colab": {
      "name": "PRSheet1.ipynb",
      "version": "0.3.2",
      "provenance": [],
      "collapsed_sections": []
    },
    "kernelspec": {
      "name": "python3",
      "display_name": "Python 3"
    }
  },
  "cells": [
    {
      "metadata": {
        "id": "GlJReU-UEcnS",
        "colab_type": "code",
        "colab": {}
      },
      "cell_type": "code",
      "source": [
        "import numpy as np\n",
        "from numpy import linalg as LA\n",
        "from sklearn.preprocessing import StandardScaler\n"
      ],
      "execution_count": 0,
      "outputs": []
    },
    {
      "metadata": {
        "id": "xcdiBPmksNRy",
        "colab_type": "text"
      },
      "cell_type": "markdown",
      "source": [
        "# **Question 2**"
      ]
    },
    {
      "metadata": {
        "id": "bp_cPBTPQVwT",
        "colab_type": "code",
        "outputId": "ee5491d5-170a-4250-fb2b-7ac22db0d17c",
        "colab": {
          "base_uri": "https://localhost:8080/",
          "height": 158
        }
      },
      "cell_type": "code",
      "source": [
        "A = np.array([[10,60,10,90],[20,50,40,70],[30,50,30,40],[20,50,20,60],[10,60,30,10]])\n",
        "\n",
        "#Calculate Norm of each instance 5X1\n",
        "\n",
        "for i in range(4):\n",
        "  print(\"colomn \",i,\" = \",A[:,i])\n",
        "  print(\"Norm of colomn \",i,\" = \",LA.norm(A[:,i]))\n",
        "  "
      ],
      "execution_count": 0,
      "outputs": [
        {
          "output_type": "stream",
          "text": [
            "colomn  0  =  [10 20 30 20 10]\n",
            "Norm of colomn  0  =  43.58898943540674\n",
            "colomn  1  =  [60 50 50 50 60]\n",
            "Norm of colomn  1  =  121.2435565298214\n",
            "colomn  2  =  [10 40 30 20 30]\n",
            "Norm of colomn  2  =  62.44997998398398\n",
            "colomn  3  =  [90 70 40 60 10]\n",
            "Norm of colomn  3  =  135.27749258468683\n"
          ],
          "name": "stdout"
        }
      ]
    },
    {
      "metadata": {
        "id": "_glboklSope4",
        "colab_type": "code",
        "outputId": "efa8fc7f-a142-4969-e87c-6932976a265e",
        "colab": {
          "base_uri": "https://localhost:8080/",
          "height": 1073
        }
      },
      "cell_type": "code",
      "source": [
        "#Calculate Cosine Similarity 5X5\n",
        "for i in range(5):\n",
        "  for j in range(5):\n",
        "    if(i!=j):\n",
        "      print(\"Cosine Similiarity of\", i,\" & \",j, \" = \",np.dot(A[i], A[j]) / (np.linalg.norm(A[i]) * LA.norm(A[j])))\n",
        "      print(\"Eclidian Distance between\", i,\" & \",j, \" = \",LA.norm(A[i]-A[j]))\n",
        "      print(\" \")\n",
        "    "
      ],
      "execution_count": 0,
      "outputs": [
        {
          "output_type": "stream",
          "text": [
            "Cosine Similiarity of 0  &  1  =  0.9360472831859166\n",
            "Eclidian Distance between 0  &  1  =  38.72983346207417\n",
            " \n",
            "Cosine Similiarity of 0  &  2  =  0.8592766489861979\n",
            "Eclidian Distance between 0  &  2  =  58.309518948453004\n",
            " \n",
            "Cosine Similiarity of 0  &  3  =  0.9711462691672165\n",
            "Eclidian Distance between 0  &  3  =  34.64101615137755\n",
            " \n",
            "Cosine Similiarity of 0  &  4  =  0.6551996705282485\n",
            "Eclidian Distance between 0  &  4  =  82.46211251235322\n",
            " \n",
            "Cosine Similiarity of 1  &  0  =  0.9360472831859166\n",
            "Eclidian Distance between 1  &  0  =  38.72983346207417\n",
            " \n",
            "Cosine Similiarity of 1  &  2  =  0.9533852225717069\n",
            "Eclidian Distance between 1  &  2  =  33.166247903554\n",
            " \n",
            "Cosine Similiarity of 1  &  3  =  0.9809313603110514\n",
            "Eclidian Distance between 1  &  3  =  22.360679774997898\n",
            " \n",
            "Cosine Similiarity of 1  &  4  =  0.7672860817130622\n",
            "Eclidian Distance between 1  &  4  =  62.44997998398398\n",
            " \n",
            "Cosine Similiarity of 2  &  0  =  0.8592766489861979\n",
            "Eclidian Distance between 2  &  0  =  58.309518948453004\n",
            " \n",
            "Cosine Similiarity of 2  &  1  =  0.9533852225717069\n",
            "Eclidian Distance between 2  &  1  =  33.166247903554\n",
            " \n",
            "Cosine Similiarity of 2  &  3  =  0.9560470897547585\n",
            "Eclidian Distance between 2  &  3  =  24.49489742783178\n",
            " \n",
            "Cosine Similiarity of 2  &  4  =  0.8735402020935492\n",
            "Eclidian Distance between 2  &  4  =  37.416573867739416\n",
            " \n",
            "Cosine Similiarity of 3  &  0  =  0.9711462691672165\n",
            "Eclidian Distance between 3  &  0  =  34.64101615137755\n",
            " \n",
            "Cosine Similiarity of 3  &  1  =  0.9809313603110514\n",
            "Eclidian Distance between 3  &  1  =  22.360679774997898\n",
            " \n",
            "Cosine Similiarity of 3  &  2  =  0.9560470897547585\n",
            "Eclidian Distance between 3  &  2  =  24.49489742783178\n",
            " \n",
            "Cosine Similiarity of 3  &  4  =  0.7726435832201903\n",
            "Eclidian Distance between 3  &  4  =  52.91502622129181\n",
            " \n",
            "Cosine Similiarity of 4  &  0  =  0.6551996705282485\n",
            "Eclidian Distance between 4  &  0  =  82.46211251235322\n",
            " \n",
            "Cosine Similiarity of 4  &  1  =  0.7672860817130622\n",
            "Eclidian Distance between 4  &  1  =  62.44997998398398\n",
            " \n",
            "Cosine Similiarity of 4  &  2  =  0.8735402020935492\n",
            "Eclidian Distance between 4  &  2  =  37.416573867739416\n",
            " \n",
            "Cosine Similiarity of 4  &  3  =  0.7726435832201903\n",
            "Eclidian Distance between 4  &  3  =  52.91502622129181\n",
            " \n"
          ],
          "name": "stdout"
        }
      ]
    },
    {
      "metadata": {
        "id": "FAOBpH3ysYME",
        "colab_type": "text"
      },
      "cell_type": "markdown",
      "source": [
        "# **Question 3**"
      ]
    },
    {
      "metadata": {
        "id": "N6WE-eHgsLGi",
        "colab_type": "code",
        "colab": {}
      },
      "cell_type": "code",
      "source": [
        "\n",
        "import matplotlib.pyplot as plt\n",
        "from mpl_toolkits.mplot3d import Axes3D"
      ],
      "execution_count": 0,
      "outputs": []
    },
    {
      "metadata": {
        "id": "EnE2rWtd6tpY",
        "colab_type": "code",
        "outputId": "28f2a3c6-f71b-4b1a-c9aa-ae8a90db4a89",
        "colab": {
          "base_uri": "https://localhost:8080/",
          "height": 105
        }
      },
      "cell_type": "code",
      "source": [
        "D3 = np.array([[10,60,90],[20,50,70],[30,50,40],[20,50,60],[10,60,10]]) \n",
        "print(D3)"
      ],
      "execution_count": 0,
      "outputs": [
        {
          "output_type": "stream",
          "text": [
            "[[10 60 90]\n",
            " [20 50 70]\n",
            " [30 50 40]\n",
            " [20 50 60]\n",
            " [10 60 10]]\n"
          ],
          "name": "stdout"
        }
      ]
    },
    {
      "metadata": {
        "id": "50TAde7Mo1Tp",
        "colab_type": "code",
        "outputId": "3222a063-0017-4bc1-d1fb-0bd5d0a9113f",
        "colab": {
          "base_uri": "https://localhost:8080/",
          "height": 330
        }
      },
      "cell_type": "code",
      "source": [
        "\n",
        "fig = plt.figure()\n",
        "ax = fig.add_subplot(111, projection='3d')\n",
        "\n",
        "ax.scatter(D3[:,0], D3[:,1], D3[:,2], c='r', marker='^')\n",
        "\n",
        "ax.set_xlabel('X Label')\n",
        "ax.set_ylabel('Y Label')\n",
        "ax.set_zlabel('Z Label')\n",
        "\n",
        "plt.show()\n"
      ],
      "execution_count": 0,
      "outputs": [
        {
          "output_type": "display_data",
          "data": {
            "image/png": "[encoded data removed]",
            "text/plain": [
              "<Figure size 576x396 with 1 Axes>"
            ]
          },
          "metadata": {
            "tags": []
          }
        }
      ]
    },
    {
      "metadata": {
        "id": "c10mMnia2pUQ",
        "colab_type": "code",
        "outputId": "f4c6678b-850e-4a89-e9af-375ee125021c",
        "colab": {
          "base_uri": "https://localhost:8080/",
          "height": 34
        }
      },
      "cell_type": "code",
      "source": [
        "m = D3.mean(axis=0)\n",
        "print(m)"
      ],
      "execution_count": 0,
      "outputs": [
        {
          "output_type": "stream",
          "text": [
            "[18. 54. 54.]\n"
          ],
          "name": "stdout"
        }
      ]
    },
    {
      "metadata": {
        "id": "rGbf-KH725Zy",
        "colab_type": "code",
        "outputId": "b964ef86-7352-48e4-81a0-23d31049217f",
        "colab": {
          "base_uri": "https://localhost:8080/",
          "height": 105
        }
      },
      "cell_type": "code",
      "source": [
        "z = D3-m\n",
        "print(z)"
      ],
      "execution_count": 0,
      "outputs": [
        {
          "output_type": "stream",
          "text": [
            "[[ -8.   6.  36.]\n",
            " [  2.  -4.  16.]\n",
            " [ 12.  -4. -14.]\n",
            " [  2.  -4.   6.]\n",
            " [ -8.   6. -44.]]\n"
          ],
          "name": "stdout"
        }
      ]
    },
    {
      "metadata": {
        "id": "tHih3k-x6ybC",
        "colab_type": "code",
        "outputId": "9bc64116-5b75-4622-98f0-c3a86e5cce2b",
        "colab": {
          "base_uri": "https://localhost:8080/",
          "height": 70
        }
      },
      "cell_type": "code",
      "source": [
        "b = np.vstack((z[0],z[1],z[2]))\n",
        "np.cov(b)"
      ],
      "execution_count": 0,
      "outputs": [
        {
          "output_type": "execute_result",
          "data": {
            "text/plain": [
              "array([[ 505.33333333,  188.66666667, -278.        ],\n",
              "       [ 188.66666667,  105.33333333,  -78.        ],\n",
              "       [-278.        ,  -78.        ,  172.        ]])"
            ]
          },
          "metadata": {
            "tags": []
          },
          "execution_count": 88
        }
      ]
    },
    {
      "metadata": {
        "id": "gEVNGNKSRTRZ",
        "colab_type": "code",
        "outputId": "19a06be4-4914-4167-b572-92bd2dd60346",
        "colab": {
          "base_uri": "https://localhost:8080/",
          "height": 70
        }
      },
      "cell_type": "code",
      "source": [
        "mat_cov= np.cov(z.T)\n",
        "print(mat_cov)"
      ],
      "execution_count": 0,
      "outputs": [
        {
          "output_type": "stream",
          "text": [
            "[[ 70. -40. -15.]\n",
            " [-40.  30. -20.]\n",
            " [-15. -20. 930.]]\n"
          ],
          "name": "stdout"
        }
      ]
    },
    {
      "metadata": {
        "id": "6A_GShq1bnin",
        "colab_type": "text"
      },
      "cell_type": "markdown",
      "source": [
        ""
      ]
    },
    {
      "metadata": {
        "id": "elitsjbq88x0",
        "colab_type": "code",
        "outputId": "20b83db2-adfb-4e3f-8a4d-04db0fedf2be",
        "colab": {
          "base_uri": "https://localhost:8080/",
          "height": 34
        }
      },
      "cell_type": "code",
      "source": [
        "np.diag(mat_cov)"
      ],
      "execution_count": 0,
      "outputs": [
        {
          "output_type": "execute_result",
          "data": {
            "text/plain": [
              "array([ 70.,  30., 930.])"
            ]
          },
          "metadata": {
            "tags": []
          },
          "execution_count": 15
        }
      ]
    },
    {
      "metadata": {
        "id": "eq4CrV4A-ncc",
        "colab_type": "code",
        "outputId": "f97c0578-d9d9-4be1-e06e-eae24b5604ca",
        "colab": {
          "base_uri": "https://localhost:8080/",
          "height": 122
        }
      },
      "cell_type": "code",
      "source": [
        "w, v = LA.eigh(mat_cov)\n",
        "w=np.diag(w)\n",
        "print(w)\n",
        "print(v)"
      ],
      "execution_count": 0,
      "outputs": [
        {
          "output_type": "stream",
          "text": [
            "[[  4.60865707   0.           0.        ]\n",
            " [  0.          94.71537456   0.        ]\n",
            " [  0.           0.         930.67596837]]\n",
            "[[ 0.52611085  0.85025739 -0.01642407]\n",
            " [ 0.8499905  -0.5263604  -0.02146802]\n",
            " [ 0.02689832  0.00266574  0.99963462]]\n"
          ],
          "name": "stdout"
        }
      ]
    },
    {
      "metadata": {
        "id": "VcMROVowAMrP",
        "colab_type": "code",
        "outputId": "cdaaf3d2-edd8-4152-ac92-4a0fe7f62c31",
        "colab": {
          "base_uri": "https://localhost:8080/",
          "height": 70
        }
      },
      "cell_type": "code",
      "source": [
        "t= np.transpose(v)\n",
        "# print(t)\n",
        "\n",
        "proof = np.dot(np.dot(v,w),t)\n",
        "# ans= np.dot(proof,t)\n",
        "\n",
        "print(proof)\n"
      ],
      "execution_count": 0,
      "outputs": [
        {
          "output_type": "stream",
          "text": [
            "[[ 70. -40. -15.]\n",
            " [-40.  30. -20.]\n",
            " [-15. -20. 930.]]\n"
          ],
          "name": "stdout"
        }
      ]
    },
    {
      "metadata": {
        "id": "owLHAm4RfRu-",
        "colab_type": "text"
      },
      "cell_type": "markdown",
      "source": [
        "** The best  eigen vector corresponds to 930.67 which will be PC1 and PC2 will be the 2nd best which is 94.71  PC1 **"
      ]
    },
    {
      "metadata": {
        "id": "15wBsDe6lKDm",
        "colab_type": "code",
        "outputId": "4e84ea94-0792-4b28-c05c-875709d6dd93",
        "colab": {
          "base_uri": "https://localhost:8080/",
          "height": 70
        }
      },
      "cell_type": "code",
      "source": [
        "print(v[:,1:])"
      ],
      "execution_count": 0,
      "outputs": [
        {
          "output_type": "stream",
          "text": [
            "[[ 0.85025739 -0.01642407]\n",
            " [-0.5263604  -0.02146802]\n",
            " [ 0.00266574  0.99963462]]\n"
          ],
          "name": "stdout"
        }
      ]
    },
    {
      "metadata": {
        "id": "tOPX1bfyg2mG",
        "colab_type": "code",
        "outputId": "cb1f8ebe-f8bc-4ac0-8d32-46824575eac3",
        "colab": {
          "base_uri": "https://localhost:8080/",
          "height": 105
        }
      },
      "cell_type": "code",
      "source": [
        "P = v[:,1:].T.dot(z.T)\n",
        "print(P.T)"
      ],
      "execution_count": 0,
      "outputs": [
        {
          "output_type": "stream",
          "text": [
            "[[ -9.8642548   35.98943074]\n",
            " [  3.84860823  16.04717787]\n",
            " [ 12.27120986 -14.10610139]\n",
            " [  3.82195082   6.05083167]\n",
            " [-10.07751411 -43.98133889]]\n"
          ],
          "name": "stdout"
        }
      ]
    },
    {
      "metadata": {
        "id": "ihmBL-Exl-M9",
        "colab_type": "code",
        "outputId": "e22c886e-95f2-4bc8-c647-9f7a2e2dc158",
        "colab": {
          "base_uri": "https://localhost:8080/",
          "height": 369
        }
      },
      "cell_type": "code",
      "source": [
        "plt.scatter(P[0],P[1],c='r')"
      ],
      "execution_count": 0,
      "outputs": [
        {
          "output_type": "execute_result",
          "data": {
            "text/plain": [
              "<matplotlib.collections.PathCollection at 0x7f943c59ca58>"
            ]
          },
          "metadata": {
            "tags": []
          },
          "execution_count": 60
        },
        {
          "output_type": "display_data",
          "data": {
            "image/png": "[encoded data removed]",
            "text/plain": [
              "<Figure size 576x396 with 1 Axes>"
            ]
          },
          "metadata": {
            "tags": []
          }
        }
      ]
    },
    {
      "metadata": {
        "id": "AzGYNydZY1HD",
        "colab_type": "text"
      },
      "cell_type": "markdown",
      "source": [
        ""
      ]
    },
    {
      "metadata": {
        "id": "K2CvXxxrHudP",
        "colab_type": "code",
        "colab": {}
      },
      "cell_type": "code",
      "source": [
        "# imageArray2Dmesh = np.mean(b, axis=2);\n",
        "# plt.figure()\n",
        "# plt.pcolor(imageArray2Dmesh,cmap=plt.cm.pink)\n",
        "# plt.colorbar()\n",
        "# plt.show()"
      ],
      "execution_count": 0,
      "outputs": []
    },
    {
      "metadata": {
        "id": "h-pDBviBKxiK",
        "colab_type": "text"
      },
      "cell_type": "markdown",
      "source": [
        "# **Question 4**"
      ]
    },
    {
      "metadata": {
        "id": "EZhuSpEZK1ig",
        "colab_type": "code",
        "outputId": "5fdfca9f-62aa-404f-b039-b40cacce816d",
        "colab": {
          "base_uri": "https://localhost:8080/",
          "height": 70
        }
      },
      "cell_type": "code",
      "source": [
        "k= np.array([[0.5,4.5,2.5],[2.2,1.5,0.1],[3.9,3.5,1.1],[2.1,1.9,4.9],[0.25,3.2,1.2]])\n",
        "print(np.cov(k.T))\n"
      ],
      "execution_count": 0,
      "outputs": [
        {
          "output_type": "stream",
          "text": [
            "[[ 2.188 -0.536 -0.298]\n",
            " [-0.536  1.492 -0.054]\n",
            " [-0.298 -0.054  3.428]]\n"
          ],
          "name": "stdout"
        }
      ]
    },
    {
      "metadata": {
        "id": "CjYiapzXQyGo",
        "colab_type": "text"
      },
      "cell_type": "markdown",
      "source": [
        ""
      ]
    }
  ]
}